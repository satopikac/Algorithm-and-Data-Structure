{
 "cells": [
  {
   "cell_type": "code",
   "execution_count": null,
   "metadata": {},
   "outputs": [],
   "source": [
    "# flag \n",
    "flag=True\n",
    "while flag :\n",
    "    ind = input(\"输入调味料: \")\n",
    "    if ind == \"quit\":\n",
    "        flag = False\n",
    "    else:\n",
    "        print(f\"我们会在比萨中加入{ind}\")"
   ]
  },
  {
   "cell_type": "code",
   "execution_count": null,
   "metadata": {},
   "outputs": [],
   "source": [
    "while True:\n",
    "    ind=input(\"给出你想加入的调料： \")\n",
    "    if(ind == \"quit\"): break\n",
    "    print(f\"我们会在其中加入{ind}\")"
   ]
  },
  {
   "cell_type": "code",
   "execution_count": null,
   "metadata": {},
   "outputs": [],
   "source": [
    "while 1:\n",
    "    print(1)"
   ]
  },
  {
   "cell_type": "code",
   "execution_count": 4,
   "metadata": {},
   "outputs": [
    {
     "name": "stdout",
     "output_type": "stream",
     "text": [
      "Verifying user:Candace\n",
      "Verifying user:Brian\n",
      "Verifying user:Alice\n",
      "\n",
      " The following users have been comfirmed:\n",
      "Candace\n",
      "Brian\n",
      "Alice\n"
     ]
    }
   ],
   "source": [
    "uncomfirmed_users=['alice','brian','candace']\n",
    "comfirmed_users=[]\n",
    "\n",
    "while uncomfirmed_users:\n",
    "    cur_user=uncomfirmed_users.pop()\n",
    "    print(f\"Verifying user:{cur_user.title()}\")\n",
    "    comfirmed_users.append(cur_user)\n",
    "\n",
    "print(\"\\n The following users have been comfirmed:\")\n",
    "for comfirmed_user in comfirmed_users:\n",
    "    print(comfirmed_user.title())"
   ]
  },
  {
   "cell_type": "code",
   "execution_count": 1,
   "metadata": {},
   "outputs": [
    {
     "name": "stdout",
     "output_type": "stream",
     "text": [
      "['dog', 'cat', 'dog', 'goldfish', 'cat', 'rabbit', 'cat']\n",
      "['dog', 'dog', 'goldfish', 'rabbit']\n"
     ]
    }
   ],
   "source": [
    "pets = ['dog', 'cat', 'dog', 'goldfish', 'cat', 'rabbit', 'cat']\n",
    "print(pets)\n",
    "\n",
    "while 'cat' in pets:\n",
    "    pets.remove('cat')\n",
    "\n",
    "print(pets)"
   ]
  },
  {
   "cell_type": "code",
   "execution_count": 1,
   "metadata": {},
   "outputs": [],
   "source": [
    "# 使用while来生成字典\n",
    "\n",
    "responses={}\n",
    "\n",
    "flag =True\n",
    "while flag:\n",
    "    name =input(\"\\n 你的名字是:\")\n",
    "    response =input(\"你最喜欢爬哪座山:\")\n",
    "\n",
    "    responses[name]=response\n",
    "\n",
    "    repeat =input(\"你想让另外一个人来作答吗？（yes or no)\")\n",
    "    if repeat == 'no':\n",
    "        flag = False\n",
    "\n",
    "for name,response in responses.items():\n",
    "    print(f\"{name}最喜欢爬{response}\")"
   ]
  },
  {
   "cell_type": "code",
   "execution_count": null,
   "metadata": {},
   "outputs": [],
   "source": []
  }
 ],
 "metadata": {
  "kernelspec": {
   "display_name": "Python 3",
   "language": "python",
   "name": "python3"
  },
  "language_info": {
   "codemirror_mode": {
    "name": "ipython",
    "version": 3
   },
   "file_extension": ".py",
   "mimetype": "text/x-python",
   "name": "python",
   "nbconvert_exporter": "python",
   "pygments_lexer": "ipython3",
   "version": "3.11.4"
  },
  "orig_nbformat": 4
 },
 "nbformat": 4,
 "nbformat_minor": 2
}
