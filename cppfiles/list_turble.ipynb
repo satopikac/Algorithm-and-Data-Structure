{
 "cells": [
  {
   "cell_type": "code",
   "execution_count": 1,
   "metadata": {},
   "outputs": [
    {
     "name": "stdout",
     "output_type": "stream",
     "text": [
      "[['edward', 12], ['john', 15]]\n"
     ]
    }
   ],
   "source": [
    "# 序列 包括列表和元组，其中列表可修改，后者不可修改\n",
    "edward=[\"edward\",12]\n",
    "john=[\"john\",15]\n",
    "staff=[edward,john]\n",
    "print(staff)"
   ]
  },
  {
   "cell_type": "code",
   "execution_count": 4,
   "metadata": {},
   "outputs": [
    {
     "data": {
      "text/plain": [
       "'l'"
      ]
     },
     "execution_count": 4,
     "metadata": {},
     "output_type": "execute_result"
    }
   ],
   "source": [
    "# 序列的索引操作\n",
    "#字符串也是索引的一种\n",
    "greeting=\"Hello!\"\n",
    "greeting[-1]\n",
    "greeting[2]"
   ]
  },
  {
   "cell_type": "code",
   "execution_count": 5,
   "metadata": {},
   "outputs": [
    {
     "data": {
      "text/plain": [
       "'l'"
      ]
     },
     "execution_count": 5,
     "metadata": {},
     "output_type": "execute_result"
    }
   ],
   "source": [
    "\"hello\"[3]"
   ]
  },
  {
   "cell_type": "code",
   "execution_count": 7,
   "metadata": {},
   "outputs": [
    {
     "name": "stdout",
     "output_type": "stream",
     "text": [
      "July 13th,2023\n"
     ]
    }
   ],
   "source": [
    "#将数以指定年月日的格式打印出来\n",
    "months=['January',\n",
    "        'February',\n",
    "        'March',\n",
    "        'April',\n",
    "        'May',\n",
    "        'June',\n",
    "        'July',\n",
    "        'August',\n",
    "        'September',\n",
    "        'October',\n",
    "        'November',\n",
    "        'December']\n",
    "\n",
    "endings=['st','nd','rd']+17*['th']   #\\换行\n",
    "+['st','nd','rd']+7*['th']+['st']   # + 与 *\n",
    "\n",
    "year=input('Year: ')\n",
    "month=input('Month (1-12): ')\n",
    "day=input('Day(1-31): ')\n",
    "\n",
    "month_number=int(month)\n",
    "day_number=int(day)\n",
    "\n",
    "month_name=months[month_number-1]\n",
    "ordinal=day+endings[day_number-1]\n",
    "\n",
    "print(month_name+' '+ordinal+','+year)"
   ]
  },
  {
   "cell_type": "code",
   "execution_count": 6,
   "metadata": {},
   "outputs": [
    {
     "name": "stdout",
     "output_type": "stream",
     "text": [
      "4\n"
     ]
    }
   ],
   "source": [
    "fourth=input(\"Year: \")[3]\n",
    "print(fourth)"
   ]
  },
  {
   "cell_type": "code",
   "execution_count": 13,
   "metadata": {},
   "outputs": [
    {
     "name": "stdout",
     "output_type": "stream",
     "text": [
      "庆宇\n",
      "庆宇\n",
      "梅庆\n"
     ]
    }
   ],
   "source": [
    "# 序列的切片\n",
    "name=\"梅庆宇\"\n",
    "print(name[1:3]) # 左闭右开区间\n",
    "print(name[-2:])\n",
    "print(name[:2])"
   ]
  },
  {
   "cell_type": "code",
   "execution_count": 14,
   "metadata": {},
   "outputs": [
    {
     "name": "stdout",
     "output_type": "stream",
     "text": [
      "domain name=python\n"
     ]
    }
   ],
   "source": [
    "# 从url中提取译名\n",
    "url=input('please enter the url: ')\n",
    "domain=url[11:-4]\n",
    "print('domain name= '+domain)"
   ]
  },
  {
   "cell_type": "code",
   "execution_count": 15,
   "metadata": {},
   "outputs": [
    {
     "name": "stdout",
     "output_type": "stream",
     "text": [
      "最大数34\n",
      "最小数1\n",
      "列表长度6\n"
     ]
    }
   ],
   "source": [
    "# len,max,min 函数\n",
    "num=[12,34,1,25,7,30]\n",
    "print(f\"最大数{max(num)}\")\n",
    "print(f\"最小数{min(num)}\")\n",
    "print(f\"列表长度{len(num)}\")"
   ]
  },
  {
   "cell_type": "code",
   "execution_count": 16,
   "metadata": {},
   "outputs": [
    {
     "name": "stdout",
     "output_type": "stream",
     "text": [
      "Let me see if I can find you a Subaru\n"
     ]
    }
   ],
   "source": [
    "car_kind=input(\"What kind of car do you like ?\")\n",
    "print(f\"Let me see if I can find you a {car_kind}\")"
   ]
  },
  {
   "cell_type": "code",
   "execution_count": 17,
   "metadata": {},
   "outputs": [
    {
     "name": "stdout",
     "output_type": "stream",
     "text": [
      "没有空桌子了\n"
     ]
    }
   ],
   "source": [
    "people_num=int(input(\"多少人用餐啊？\"))\n",
    "if people_num > 8:\n",
    "    print(\"没有空桌子了\")\n",
    "else:\n",
    "    print(\"有空桌\")"
   ]
  },
  {
   "cell_type": "code",
   "execution_count": 18,
   "metadata": {},
   "outputs": [
    {
     "name": "stdout",
     "output_type": "stream",
     "text": [
      "不是10整数倍\n"
     ]
    }
   ],
   "source": [
    "num = int(input(\"输入一个数字\"))\n",
    "if num%10 == 0 :\n",
    "    print(f\"{num}是10的整数倍\")\n",
    "else:\n",
    "    print(\"不是10整数倍\")"
   ]
  }
 ],
 "metadata": {
  "kernelspec": {
   "display_name": "Python 3",
   "language": "python",
   "name": "python3"
  },
  "language_info": {
   "codemirror_mode": {
    "name": "ipython",
    "version": 3
   },
   "file_extension": ".py",
   "mimetype": "text/x-python",
   "name": "python",
   "nbconvert_exporter": "python",
   "pygments_lexer": "ipython3",
   "version": "3.11.4"
  },
  "orig_nbformat": 4
 },
 "nbformat": 4,
 "nbformat_minor": 2
}
