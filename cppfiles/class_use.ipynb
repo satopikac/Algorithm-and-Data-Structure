{
 "cells": [
  {
   "cell_type": "markdown",
   "metadata": {},
   "source": [
    "面向对象编程\n",
    "编写表示一类事物通用行为的类，类的实例化得到对象，对象都具备这类通用的行为"
   ]
  },
  {
   "cell_type": "code",
   "execution_count": 1,
   "metadata": {},
   "outputs": [
    {
     "name": "stdout",
     "output_type": "stream",
     "text": [
      "bob\n",
      "5\n",
      "bob现在坐下来了\n",
      "bob现在开始打滚\n"
     ]
    }
   ],
   "source": [
    "# 创建dog类\n",
    "class Dog:\n",
    "    \"\"\"模拟dog\"\"\"\n",
    "\n",
    "    def __init__(self,name,age):  # self 指向自身的引用\n",
    "        \"\"\"初始化name和age\"\"\"\n",
    "        self.name =name\n",
    "        self.age =age\n",
    "\n",
    "    def sit(self):\n",
    "        print(f\"{self.name}现在坐下来了\")\n",
    "    \n",
    "    def roll_over(self):\n",
    "        print(f\"{self.name}现在开始打滚\")\n",
    "\n",
    "# 实例化\n",
    "my_dog = Dog('bob',5)\n",
    "print(my_dog.name)\n",
    "print(my_dog.age)\n",
    "my_dog.sit()\n",
    "my_dog.roll_over()\n"
   ]
  },
  {
   "cell_type": "code",
   "execution_count": 3,
   "metadata": {},
   "outputs": [
    {
     "name": "stdout",
     "output_type": "stream",
     "text": [
      "hello,tom hanks\n",
      "0\n",
      "5\n",
      "0\n"
     ]
    }
   ],
   "source": [
    "# exercise\n",
    "class User:\n",
    "    def __init__(self,f_name,l_name):\n",
    "        self.fname=f_name\n",
    "        self.lname=l_name\n",
    "        self.login_attempts =0\n",
    "\n",
    "    def describe(self):\n",
    "        print(f\"{self.fname} {self.lname}\")\n",
    "\n",
    "    def greet(self):\n",
    "        print(f\"hello,{self.fname} {self.lname}\")\n",
    "    \n",
    "    def incremenr_la(self):\n",
    "        self.login_attempts += 1\n",
    "    \n",
    "    def reset(self):\n",
    "        self.login_attempts =0\n",
    "\n",
    "\n",
    "oneuser = User('tom','hanks')\n",
    "oneuser.greet()\n",
    "print(oneuser.login_attempts)\n",
    "oneuser.incremenr_la()\n",
    "oneuser.incremenr_la()\n",
    "oneuser.incremenr_la()\n",
    "oneuser.incremenr_la()\n",
    "oneuser.incremenr_la()\n",
    "print(oneuser.login_attempts)\n",
    "oneuser.reset()\n",
    "print(oneuser.login_attempts)"
   ]
  },
  {
   "cell_type": "code",
   "execution_count": 4,
   "metadata": {},
   "outputs": [
    {
     "name": "stdout",
     "output_type": "stream",
     "text": [
      "2019 Tesla Model S\n"
     ]
    }
   ],
   "source": [
    "# 类继承\n",
    "class Car:\n",
    "    \"\"\"一次模拟汽车的简单尝试。\"\"\"\n",
    "    def __init__(self, make, model, year):\n",
    "       self.make = make\n",
    "       self.model = model\n",
    "       self.year = year\n",
    "       self.odometer_reading = 0\n",
    "\n",
    "    def get_descriptive_name(self):\n",
    "        long_name = f\"{self.year} {self.make} {self.model}\"\n",
    "        return long_name.title()\n",
    "    \n",
    "    def read_odometer(self):\n",
    "        print(f\"This car has {self.odometer_reading} miles on it.\")\n",
    "\n",
    "    def update_odometer(self, mileage):\n",
    "        if mileage >= self.odometer_reading:\n",
    "           self.odometer_reading = mileage\n",
    "        else:\n",
    "            print(\"You can't roll back an odometer!\")\n",
    "    def increment_odometer(self, miles):\n",
    "         self.odometer_reading += miles\n",
    "\n",
    "\n",
    "# 继承\n",
    "\n",
    "class Electricalcar(Car):\n",
    "    def __init__(self, make, model, year):\n",
    "        super().__init__(make, model, year)\n",
    "\n",
    "mytesla = Electricalcar('tesla','model s',2019)\n",
    "print(mytesla.get_descriptive_name())"
   ]
  },
  {
   "cell_type": "code",
   "execution_count": null,
   "metadata": {},
   "outputs": [],
   "source": [
    "# 类继承\n",
    "class Car:\n",
    "    \"\"\"一次模拟汽车的简单尝试。\"\"\"\n",
    "    def __init__(self, make, model, year):\n",
    "       self.make = make\n",
    "       self.model = model\n",
    "       self.year = year\n",
    "       self.odometer_reading = 0\n",
    "\n",
    "    def get_descriptive_name(self):\n",
    "        long_name = f\"{self.year} {self.make} {self.model}\"\n",
    "        return long_name.title()\n",
    "    \n",
    "    def read_odometer(self):\n",
    "        print(f\"This car has {self.odometer_reading} miles on it.\")\n",
    "\n",
    "    def update_odometer(self, mileage):\n",
    "        if mileage >= self.odometer_reading:\n",
    "           self.odometer_reading = mileage\n",
    "        else:\n",
    "            print(\"You can't roll back an odometer!\")\n",
    "    def increment_odometer(self, miles):\n",
    "         self.odometer_reading += miles\n",
    "\n",
    "\n",
    "# 继承\n",
    "\n",
    "class Electricalcar(Car):\n",
    "    def __init__(self, make, model, year):\n",
    "        super().__init__(make, model, year)\n",
    "        self.battery_size = 75\n",
    "\n",
    "    def describe_battery(self):\n",
    "        print(self.battery_size)\n",
    "\n",
    "    # 重写父类方法\n",
    "    # 只需要在子类写一个同名方法\n",
    "\n",
    "    # 大类分成若干个小类\n"
   ]
  },
  {
   "cell_type": "code",
   "execution_count": 7,
   "metadata": {},
   "outputs": [
    {
     "name": "stdout",
     "output_type": "stream",
     "text": [
      "['can add post', 'can delete post', 'can ban user']\n"
     ]
    }
   ],
   "source": [
    "# exercise\n",
    "class User:\n",
    "    def __init__(self,f_name,l_name):\n",
    "        self.fname=f_name\n",
    "        self.lname=l_name\n",
    "        self.login_attempts =0\n",
    "\n",
    "    def describe(self):\n",
    "        print(f\"{self.fname} {self.lname}\")\n",
    "\n",
    "    def greet(self):\n",
    "        print(f\"hello,{self.fname} {self.lname}\")\n",
    "    \n",
    "    def incremenr_la(self):\n",
    "        self.login_attempts += 1\n",
    "    \n",
    "    def reset(self):\n",
    "        self.login_attempts =0\n",
    "    \n",
    "class Privileges:\n",
    "    def __init__(self):\n",
    "        self.privilege=['can add post','can delete post','can ban user']\n",
    "\n",
    "class Admin(User):\n",
    "    def __init__(self, f_name, l_name):\n",
    "        super().__init__(f_name, l_name)\n",
    "        self.privileges= Privileges()\n",
    "\n",
    "    def show_privileges(self):\n",
    "        print(self.privileges.privilege)\n",
    "\n",
    "Xiaoming = Admin('Xiao','Ming')\n",
    "Xiaoming.show_privileges()"
   ]
  },
  {
   "cell_type": "code",
   "execution_count": 30,
   "metadata": {},
   "outputs": [
    {
     "data": {
      "text/plain": [
       "41"
      ]
     },
     "execution_count": 30,
     "metadata": {},
     "output_type": "execute_result"
    }
   ],
   "source": [
    "from random import randint\n",
    "randint(1,100)"
   ]
  }
 ],
 "metadata": {
  "kernelspec": {
   "display_name": "Python 3",
   "language": "python",
   "name": "python3"
  },
  "language_info": {
   "codemirror_mode": {
    "name": "ipython",
    "version": 3
   },
   "file_extension": ".py",
   "mimetype": "text/x-python",
   "name": "python",
   "nbconvert_exporter": "python",
   "pygments_lexer": "ipython3",
   "version": "3.11.4"
  },
  "orig_nbformat": 4
 },
 "nbformat": 4,
 "nbformat_minor": 2
}
