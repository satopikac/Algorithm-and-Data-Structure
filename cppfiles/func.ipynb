{
 "cells": [
  {
   "cell_type": "code",
   "execution_count": 1,
   "metadata": {},
   "outputs": [
    {
     "name": "stdout",
     "output_type": "stream",
     "text": [
      "hello\n"
     ]
    }
   ],
   "source": [
    "def greet():\n",
    "    \"\"\"显示简单问候语\"\"\"\n",
    "print(\"hello\")\n",
    "\n",
    "greet()"
   ]
  },
  {
   "cell_type": "code",
   "execution_count": 2,
   "metadata": {},
   "outputs": [
    {
     "name": "stdout",
     "output_type": "stream",
     "text": [
      "8916100448256\n"
     ]
    }
   ],
   "source": [
    "# 关键字实参\n",
    "def pow(a,b):\n",
    "    return a**b\n",
    "\n",
    "c=pow(a=12,b=12) #指明形参的值\n",
    "print(c)"
   ]
  },
  {
   "cell_type": "code",
   "execution_count": 3,
   "metadata": {},
   "outputs": [
    {
     "name": "stdout",
     "output_type": "stream",
     "text": [
      "the dog's name is Winnie\n",
      "the cat's name is Notee\n"
     ]
    }
   ],
   "source": [
    "# 默认值实参\n",
    "def test(name,animal='dog'):\n",
    "    print(f\"the {animal}'s name is {name}\")\n",
    "\n",
    "test('Winnie')\n",
    "test('Notee','cat')"
   ]
  },
  {
   "cell_type": "code",
   "execution_count": 4,
   "metadata": {},
   "outputs": [
    {
     "name": "stdout",
     "output_type": "stream",
     "text": [
      "Jimi Hendrix\n"
     ]
    }
   ],
   "source": [
    "#可选实参的函数\n",
    "def name_format(first_name,last_name,middle_name=\"\"):\n",
    "    if middle_name :\n",
    "        full_name=f\"{first_name} {middle_name} {last_name}\"\n",
    "    else:\n",
    "        full_name=f\"{first_name} {last_name}\"\n",
    "    return full_name.title()\n",
    "\n",
    "musician=name_format('jimi','hendrix')\n",
    "print(musician)"
   ]
  },
  {
   "cell_type": "code",
   "execution_count": 7,
   "metadata": {},
   "outputs": [
    {
     "name": "stdout",
     "output_type": "stream",
     "text": [
      "Hello,Hannh!\n",
      "Hello,Ty!\n",
      "Hello,Magot!\n"
     ]
    }
   ],
   "source": [
    "# 函数传递列表\n",
    "def greet_users(names):\n",
    "    for name in names:\n",
    "        msg = f\"Hello,{name.title()}!\"\n",
    "        print(msg)\n",
    "\n",
    "names=['hannh','ty','magot']\n",
    "greet_users(names)"
   ]
  },
  {
   "cell_type": "code",
   "execution_count": null,
   "metadata": {},
   "outputs": [],
   "source": [
    "# 禁止函数修改列表\n",
    "# 传递列表的副本\n",
    "# 使用切片\n",
    "def print_models( unprinted_designs[:] ,completed_models):\n"
   ]
  },
  {
   "cell_type": "code",
   "execution_count": 8,
   "metadata": {},
   "outputs": [
    {
     "name": "stdout",
     "output_type": "stream",
     "text": [
      "\n",
      "用以下的材料制作pizza:\n",
      "- pepperoni\n",
      "\n",
      "用以下的材料制作pizza:\n",
      "- mushrooms\n",
      "- green peppers\n",
      "- extra cheese\n"
     ]
    }
   ],
   "source": [
    "# 传递任意数量的实参\n",
    "def make_pizza(*toppings):  # *创建一个元组 toppings\n",
    "    \"\"\"概述要制作的pizza\"\"\"\n",
    "    print(\"\\n用以下的材料制作pizza:\")\n",
    "    for tp in toppings:\n",
    "        print(f\"- {tp}\")\n",
    "\n",
    "make_pizza('pepperoni')\n",
    "make_pizza('mushrooms', 'green peppers', 'extra cheese')"
   ]
  },
  {
   "cell_type": "code",
   "execution_count": 9,
   "metadata": {},
   "outputs": [
    {
     "name": "stdout",
     "output_type": "stream",
     "text": [
      "\n",
      "Making a 16-inch pizza with the following toppings:\n",
      "- pepperoni\n",
      "\n",
      "Making a 12-inch pizza with the following toppings:\n",
      "- mushrooms\n",
      "- green peppers\n",
      "- extra cheese\n"
     ]
    }
   ],
   "source": [
    "# 把任意数量实参放置在固定的位置实参之后\n",
    "def make_pizza(size, *toppings):\n",
    "   \"\"\"概述要制作的比萨。\"\"\"\n",
    "   print(f\"\\nMaking a {size}-inch pizza with the following toppings:\")\n",
    "   for topping in toppings:\n",
    "       print(f\"- {topping}\")\n",
    "make_pizza(16, 'pepperoni')\n",
    "make_pizza(12, 'mushrooms', 'green peppers', 'extra cheese')"
   ]
  },
  {
   "cell_type": "code",
   "execution_count": 10,
   "metadata": {},
   "outputs": [
    {
     "name": "stdout",
     "output_type": "stream",
     "text": [
      "{'location': 'princeton', 'field': 'physics', 'first_name': 'albert', 'last_name': 'einstein'}\n"
     ]
    }
   ],
   "source": [
    "# 使用任意数量的关键字实参\n",
    "def build_profile(first,last,**user_info): #**创建字典\n",
    "    \"\"\"创建一个字典储存用户信息\"\"\"\n",
    "    user_info['first_name']=first\n",
    "    user_info['last_name']=last\n",
    "    return user_info\n",
    "\n",
    "user_profile =build_profile('albert','einstein',location='princeton',field='physics')\n",
    "\n",
    "print(user_profile)"
   ]
  }
 ],
 "metadata": {
  "kernelspec": {
   "display_name": "Python 3",
   "language": "python",
   "name": "python3"
  },
  "language_info": {
   "codemirror_mode": {
    "name": "ipython",
    "version": 3
   },
   "file_extension": ".py",
   "mimetype": "text/x-python",
   "name": "python",
   "nbconvert_exporter": "python",
   "pygments_lexer": "ipython3",
   "version": "3.11.4"
  },
  "orig_nbformat": 4
 },
 "nbformat": 4,
 "nbformat_minor": 2
}
