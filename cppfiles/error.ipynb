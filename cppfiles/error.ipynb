{
 "cells": [
  {
   "cell_type": "code",
   "execution_count": 2,
   "metadata": {},
   "outputs": [
    {
     "name": "stdout",
     "output_type": "stream",
     "text": [
      "you can't divide by zero\n"
     ]
    }
   ],
   "source": [
    "try:\n",
    "    print(5/0)\n",
    "except ZeroDivisionError:\n",
    "    print(\"you can't divide by zero\")"
   ]
  },
  {
   "cell_type": "code",
   "execution_count": 5,
   "metadata": {},
   "outputs": [
    {
     "name": "stdout",
     "output_type": "stream",
     "text": [
      "输入两个数字进行除法运算，输入'q'终止\n",
      "1.0\n",
      "6.0\n",
      "3.5714285714285716\n",
      "0不能作为除数\n",
      "6.0\n"
     ]
    }
   ],
   "source": [
    "print(\"输入两个数字进行除法运算，输入'q'终止\")\n",
    "\n",
    "while(True):\n",
    "    first_num =input(\"first number:\")\n",
    "    if first_num == 'q':\n",
    "        break\n",
    "    second_num =input(\"second number:\")\n",
    "    if second_num == 'q':\n",
    "        break\n",
    "    try:\n",
    "        answer = int(first_num)/int(second_num)\n",
    "    except ZeroDivisionError:\n",
    "        print(\"0不能作为除数\")\n",
    "    else:\n",
    "        print(answer)"
   ]
  },
  {
   "cell_type": "code",
   "execution_count": 9,
   "metadata": {},
   "outputs": [
    {
     "name": "stdout",
     "output_type": "stream",
     "text": [
      "29465\n"
     ]
    }
   ],
   "source": [
    "# try-except-else 代码块\n",
    "file_name ='alice.txt'\n",
    "try :\n",
    "    with open(file_name,encoding='utf-8') as f:\n",
    "        contents =f.read()\n",
    "except FileNotFoundError:\n",
    "    print(\"无法找到文件，检查目录中是否含有该文件\")\n",
    "\n",
    "else:\n",
    "    words = contents.split()\n",
    "    num_words =len(words)\n",
    "    print(num_words)"
   ]
  },
  {
   "cell_type": "code",
   "execution_count": 10,
   "metadata": {},
   "outputs": [
    {
     "name": "stdout",
     "output_type": "stream",
     "text": [
      "29465\n"
     ]
    }
   ],
   "source": [
    "\n",
    "# try-except-else 代码块\n",
    "file_name ='alice.txt'\n",
    "try :\n",
    "    with open(file_name,encoding='utf-8') as f:\n",
    "        contents =f.read()\n",
    "except FileNotFoundError:\n",
    "    pass\n",
    "\n",
    "else:\n",
    "    words = contents.split()\n",
    "    num_words =len(words)\n",
    "    print(num_words)"
   ]
  },
  {
   "cell_type": "code",
   "execution_count": 12,
   "metadata": {},
   "outputs": [
    {
     "name": "stdout",
     "output_type": "stream",
     "text": [
      "23565\n",
      "不是数字！\n",
      "不是数字！\n",
      "不是数字！\n",
      "5225\n",
      "不是数字！\n",
      "不是数字！\n",
      "不是数字！\n",
      "不是数字！\n",
      "不是数字！\n",
      "不是数字！\n",
      "不是数字！\n",
      "不是数字！\n",
      "不是数字！\n"
     ]
    }
   ],
   "source": [
    "# 加法运算\n",
    "while True:\n",
    "   try:\n",
    "       a = int (input(\"输入一个数字\"))\n",
    "   except ValueError:\n",
    "       print(\"不是数字！\")\n",
    "       continue\n",
    "   else:\n",
    "       try:\n",
    "           b = int(input(\"输入另一个数字\"))\n",
    "       except ValueError:\n",
    "           print(\"不是数字！\")\n",
    "           continue\n",
    "       else:\n",
    "           print(a+b)"
   ]
  },
  {
   "cell_type": "code",
   "execution_count": null,
   "metadata": {},
   "outputs": [],
   "source": []
  }
 ],
 "metadata": {
  "kernelspec": {
   "display_name": "Python 3",
   "language": "python",
   "name": "python3"
  },
  "language_info": {
   "codemirror_mode": {
    "name": "ipython",
    "version": 3
   },
   "file_extension": ".py",
   "mimetype": "text/x-python",
   "name": "python",
   "nbconvert_exporter": "python",
   "pygments_lexer": "ipython3",
   "version": "3.11.4"
  },
  "orig_nbformat": 4
 },
 "nbformat": 4,
 "nbformat_minor": 2
}
