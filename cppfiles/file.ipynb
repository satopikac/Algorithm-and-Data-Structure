{
 "cells": [
  {
   "cell_type": "code",
   "execution_count": 1,
   "metadata": {},
   "outputs": [
    {
     "name": "stdout",
     "output_type": "stream",
     "text": [
      "3.1415926535\n",
      "  8979323846\n",
      "  2643383279\n"
     ]
    }
   ],
   "source": [
    "with open('pi_digits.txt') as file_object:  # open()返回一个对象，赋给file_object\n",
    "    contents = file_object.read()   # 调用对象的方法 read()\n",
    "\n",
    "print(contents)"
   ]
  },
  {
   "cell_type": "code",
   "execution_count": 7,
   "metadata": {},
   "outputs": [
    {
     "name": "stdout",
     "output_type": "stream",
     "text": [
      "['3.1415926535\\n', '  8979323846\\n', '  2643383279']\n"
     ]
    }
   ],
   "source": [
    "# 逐行读取\n",
    "file_name='pi_digits.txt'\n",
    "lines=[]\n",
    "with open(file_name) as file_object:\n",
    "#    for line in file_object:\n",
    "   #     print(line.rstrip())\n",
    "\n",
    "    lines=file_object.readlines()\n",
    "\n",
    "print(lines)"
   ]
  },
  {
   "cell_type": "code",
   "execution_count": 11,
   "metadata": {},
   "outputs": [
    {
     "name": "stdout",
     "output_type": "stream",
     "text": [
      "yes\n"
     ]
    }
   ],
   "source": [
    "file_name='pi_million_digits.txt'\n",
    "lines=[]\n",
    "with open(file_name) as file_object:\n",
    "    lines=file_object.readlines()\n",
    "\n",
    "pi_string=''\n",
    "for line in lines:\n",
    "    pi_string += line.strip()\n",
    "\n",
    "#print(pi_string[:52])\n",
    "#print(len(pi_string))\n",
    "\n",
    "if '050629' in pi_string:\n",
    "    print(\"yes\")\n",
    "else :\n",
    "    print(\"no\")"
   ]
  },
  {
   "cell_type": "code",
   "execution_count": 1,
   "metadata": {},
   "outputs": [],
   "source": [
    "file_name = 'programming.txt'\n",
    "with open(file_name,'w') as file_object:  # 'r' 只读 'w'写入 'a'附加 'r+' 读写 默认只读\n",
    "    file_object.write(\"I love programming\")"
   ]
  },
  {
   "cell_type": "code",
   "execution_count": 2,
   "metadata": {},
   "outputs": [],
   "source": [
    "file_name = 'programming.txt'\n",
    "with open(file_name,'w') as file_object:\n",
    "    file_object.write(\"I love programming\\n\")\n",
    "    file_object.write(\"I love create new games\\n\")"
   ]
  },
  {
   "cell_type": "code",
   "execution_count": 3,
   "metadata": {},
   "outputs": [],
   "source": [
    "file_name = 'programming.txt'\n",
    "\n",
    "with open(file_name,'a') as file_object:\n",
    "    file_object.write(\"I also love finding meaning in large datasets\\n\")"
   ]
  },
  {
   "cell_type": "code",
   "execution_count": 4,
   "metadata": {},
   "outputs": [],
   "source": [
    "name = input(\"please give your name: \")\n",
    "\n",
    "with open('guest.txt','w') as file_object:\n",
    "    file_object.write(name)"
   ]
  }
 ],
 "metadata": {
  "kernelspec": {
   "display_name": "Python 3",
   "language": "python",
   "name": "python3"
  },
  "language_info": {
   "codemirror_mode": {
    "name": "ipython",
    "version": 3
   },
   "file_extension": ".py",
   "mimetype": "text/x-python",
   "name": "python",
   "nbconvert_exporter": "python",
   "pygments_lexer": "ipython3",
   "version": "3.11.4"
  },
  "orig_nbformat": 4
 },
 "nbformat": 4,
 "nbformat_minor": 2
}
