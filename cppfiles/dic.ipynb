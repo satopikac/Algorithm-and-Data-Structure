{
 "cells": [
  {
   "cell_type": "code",
   "execution_count": 1,
   "metadata": {},
   "outputs": [
    {
     "name": "stdout",
     "output_type": "stream",
     "text": [
      "green\n",
      "5\n"
     ]
    }
   ],
   "source": [
    "# 一个简单的字典\n",
    "alien_0 = {'color': 'green','points': 5} # 'key1':value1,'key2',value2\n",
    "print(alien_0['color'])\n",
    "print(alien_0['points'])"
   ]
  },
  {
   "cell_type": "code",
   "execution_count": 3,
   "metadata": {},
   "outputs": [
    {
     "name": "stdout",
     "output_type": "stream",
     "text": [
      "{'color': 'green', 'points': 5, 'x_position': 0, 'y_position': 25}\n",
      "{'key1': 1, 'key2': 2}\n"
     ]
    }
   ],
   "source": [
    "# 列表 []\n",
    "# 元组 ()\n",
    "# 字典 {}\n",
    "# 集合 {}\n",
    "# 添加key-value\n",
    "alien_0 = {'color': 'green','points': 5}\n",
    "alien_0['x_position'] = 0\n",
    "alien_0['y_position'] = 25\n",
    "\n",
    "print(alien_0)\n",
    "\n",
    "example={}\n",
    "example['key1']=1\n",
    "example['key2']=2\n",
    "print(example)"
   ]
  },
  {
   "cell_type": "code",
   "execution_count": 5,
   "metadata": {},
   "outputs": [
    {
     "name": "stdout",
     "output_type": "stream",
     "text": [
      "原始位置: 0\n",
      "新位置2\n"
     ]
    }
   ],
   "source": [
    "# 外星人位置跟踪\n",
    "alien_0 = {'x_position':0,'y_position':25,'speed':'medium'}\n",
    "print(f\"原始位置: {alien_0['x_position']}\")\n",
    "\n",
    "#向右移动外星人，根据速度确定移动长度\n",
    "if alien_0['speed'] == 'slow':\n",
    "    x_delta=1\n",
    "elif alien_0['speed']== 'medium':\n",
    "    x_delta=2\n",
    "else:\n",
    "    x_delta=3\n",
    "\n",
    "alien_0['x_position'] += x_delta\n",
    "print(f\"新位置{alien_0['x_position']}\")"
   ]
  },
  {
   "cell_type": "code",
   "execution_count": 6,
   "metadata": {},
   "outputs": [
    {
     "name": "stdout",
     "output_type": "stream",
     "text": [
      "{'k1': 1, 'k2': 2, 'k3': 3}\n",
      "{'k2': 2, 'k3': 3}\n"
     ]
    }
   ],
   "source": [
    "ex={'k1':1,'k2':2,'k3':3}\n",
    "print(ex)\n",
    "del ex['k1']\n",
    "print(ex)"
   ]
  },
  {
   "cell_type": "code",
   "execution_count": 9,
   "metadata": {},
   "outputs": [
    {
     "name": "stdout",
     "output_type": "stream",
     "text": [
      "Jen's favorite language is Python!\n",
      "Sarah's favorite language is C!\n",
      "Edward's favorite language is Ruby!\n",
      "Phil's favorite language is Python!\n",
      "Hi Jen.\n",
      "Hi Sarah.\n",
      "Hi Edward.\n",
      "Hi Phil.\n",
      "\tPhil, I see you love Python!\n"
     ]
    }
   ],
   "source": [
    "# 遍历\n",
    "favorite_lan={\n",
    "    'jen':'python',\n",
    "    'sarah':'c',\n",
    "    'edward':'ruby',\n",
    "    'phil':'python',\n",
    "}\n",
    "\n",
    "for name,lan in favorite_lan.items():\n",
    "    print(f\"{name.title()}'s favorite language is {lan.title()}!\")\n",
    "# for name in favorite.keys(): 遍历值\n",
    "\n",
    "friends = ['phil', 'sarah']\n",
    "for name in favorite_lan.keys():\n",
    "   print(f\"Hi {name.title()}.\")\n",
    "if name in friends: \n",
    "    language = favorite_lan[name].title()\n",
    "print(f\"\\t{name.title()}, I see you love {language}!\")"
   ]
  },
  {
   "cell_type": "code",
   "execution_count": 10,
   "metadata": {},
   "outputs": [
    {
     "name": "stdout",
     "output_type": "stream",
     "text": [
      "词语print的意思是“打印”\n",
      "词语input的意思是“输入”\n",
      "词语for的意思是“遍历”\n",
      "词语while的意思是“循环”\n"
     ]
    }
   ],
   "source": [
    "# exercise\n",
    "dic={'print':'打印','input':'输入','for':'遍历','while':'循环'}\n",
    "for word,meaning in dic.items():\n",
    "    print(f\"词语{word}的意思是“{meaning}”\")"
   ]
  },
  {
   "cell_type": "code",
   "execution_count": 12,
   "metadata": {},
   "outputs": [
    {
     "name": "stdout",
     "output_type": "stream",
     "text": [
      "The Nile runs through Egypt\n",
      "The Yangtze runs through China\n",
      "The Amazon runs through Brazil\n",
      "nile\n",
      "yangtze\n",
      "amazon\n",
      "egypt\n",
      "china\n",
      "brazil\n"
     ]
    }
   ],
   "source": [
    "dic_river={'nile':'egypt','yangtze':'china','amazon':'brazil'}\n",
    "for river,country in dic_river.items():\n",
    "    print(f\"The {river.title()} runs through {country.title()}\")\n",
    "for river in dic_river.keys():\n",
    "    print(river)\n",
    "for country in dic_river.values():\n",
    "    print(country)"
   ]
  },
  {
   "cell_type": "code",
   "execution_count": 13,
   "metadata": {},
   "outputs": [
    {
     "name": "stdout",
     "output_type": "stream",
     "text": [
      "{'color': 'green', 'points': 5}\n",
      "{'color': 'yellow', 'points': 10}\n",
      "{'color': 'red', 'points': 15}\n"
     ]
    }
   ],
   "source": [
    "# 外星人的信息表\n",
    "alien_0 ={'color':'green','points':5}\n",
    "alien_1 ={'color':'yellow','points':10}\n",
    "alien_2 ={'color':'red','points':15}\n",
    "\n",
    "aliens =[alien_0,alien_1,alien_2]\n",
    "\n",
    "for alien in aliens:\n",
    "    print(alien)"
   ]
  },
  {
   "cell_type": "code",
   "execution_count": null,
   "metadata": {},
   "outputs": [],
   "source": [
    "# 字典中有列表\n",
    "pizza ={\n",
    "    '类型':'thick',\n",
    "    '配料':['mushrooms','extra cheese'],\n",
    "}\n",
    "\n",
    "# 字典嵌套字典\n",
    "users = {\n",
    "'aeinstein': {\n",
    "'first': 'albert',\n",
    "'last': 'einstein',\n",
    "'location': 'princeton',\n",
    "},\n",
    "'mcurie': {\n",
    "'first': 'marie',\n",
    "'last': 'curie',\n",
    "'location': 'paris',\n",
    "},\n",
    "}"
   ]
  }
 ],
 "metadata": {
  "kernelspec": {
   "display_name": "Python 3",
   "language": "python",
   "name": "python3"
  },
  "language_info": {
   "codemirror_mode": {
    "name": "ipython",
    "version": 3
   },
   "file_extension": ".py",
   "mimetype": "text/x-python",
   "name": "python",
   "nbconvert_exporter": "python",
   "pygments_lexer": "ipython3",
   "version": "3.11.4"
  },
  "orig_nbformat": 4
 },
 "nbformat": 4,
 "nbformat_minor": 2
}
